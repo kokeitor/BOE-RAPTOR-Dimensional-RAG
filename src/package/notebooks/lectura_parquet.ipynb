{
 "cells": [
  {
   "cell_type": "code",
   "execution_count": 2,
   "metadata": {},
   "outputs": [
    {
     "data": {
      "text/html": [
       "<div>\n",
       "<style scoped>\n",
       "    .dataframe tbody tr th:only-of-type {\n",
       "        vertical-align: middle;\n",
       "    }\n",
       "\n",
       "    .dataframe tbody tr th {\n",
       "        vertical-align: top;\n",
       "    }\n",
       "\n",
       "    .dataframe thead th {\n",
       "        text-align: right;\n",
       "    }\n",
       "</style>\n",
       "<table border=\"1\" class=\"dataframe\">\n",
       "  <thead>\n",
       "    <tr style=\"text-align: right;\">\n",
       "      <th></th>\n",
       "      <th>text</th>\n",
       "      <th>file_path</th>\n",
       "      <th>file_name</th>\n",
       "      <th>file_type</th>\n",
       "      <th>file_size</th>\n",
       "      <th>creation_date</th>\n",
       "      <th>last_modified_date</th>\n",
       "      <th>fecha_publicacion_boe</th>\n",
       "      <th>pdf_id</th>\n",
       "      <th>chunk_id</th>\n",
       "      <th>num_tokens</th>\n",
       "      <th>num_caracteres</th>\n",
       "      <th>label_1_label</th>\n",
       "      <th>label_1_score</th>\n",
       "      <th>label_2_label</th>\n",
       "      <th>label_2_score</th>\n",
       "      <th>label_3_label</th>\n",
       "      <th>label_3_score</th>\n",
       "    </tr>\n",
       "  </thead>\n",
       "  <tbody>\n",
       "    <tr>\n",
       "      <th>0</th>\n",
       "      <td># \\n\\n\\n# II. AUTORIDADES Y PERSONAL\\n\\n# A. N...</td>\n",
       "      <td>C:\\Users\\Jorge\\Desktop\\MASTER_IA\\TFM\\proyectoC...</td>\n",
       "      <td>BOE-A-2024-7299.pdf</td>\n",
       "      <td>application/pdf</td>\n",
       "      <td>191000</td>\n",
       "      <td>2024-05-19</td>\n",
       "      <td>2024-04-28</td>\n",
       "      <td>2024-04-17</td>\n",
       "      <td>8b3fc320-e9c4-4329-b74f-551a60921a67</td>\n",
       "      <td>e28f0bcf-ed21-5628-8549-fbb6fab2901c</td>\n",
       "      <td>271.0</td>\n",
       "      <td>847.0</td>\n",
       "      <td>Nombramientos y Ceses</td>\n",
       "      <td>0.85</td>\n",
       "      <td>Leyes Orgánicas</td>\n",
       "      <td>0.75</td>\n",
       "      <td>Reglamentos y Normativas Generales</td>\n",
       "      <td>0.70</td>\n",
       "    </tr>\n",
       "    <tr>\n",
       "      <th>1</th>\n",
       "      <td>El Ministro de la Presidencia, Justicia y Rela...</td>\n",
       "      <td>C:\\Users\\Jorge\\Desktop\\MASTER_IA\\TFM\\proyectoC...</td>\n",
       "      <td>BOE-A-2024-7299.pdf</td>\n",
       "      <td>application/pdf</td>\n",
       "      <td>191000</td>\n",
       "      <td>2024-05-19</td>\n",
       "      <td>2024-04-28</td>\n",
       "      <td>2024-04-17</td>\n",
       "      <td>8b3fc320-e9c4-4329-b74f-551a60921a67</td>\n",
       "      <td>8b04f722-c466-592d-aa88-afd0bcc5df2e</td>\n",
       "      <td>31.0</td>\n",
       "      <td>89.0</td>\n",
       "      <td>Nombramientos y Ceses</td>\n",
       "      <td>0.85</td>\n",
       "      <td>Publicaciones por Órgano Emisor</td>\n",
       "      <td>0.75</td>\n",
       "      <td>Documentos y Comunicaciones Específicas</td>\n",
       "      <td>0.65</td>\n",
       "    </tr>\n",
       "    <tr>\n",
       "      <th>2</th>\n",
       "      <td># \\n\\n\\n# II. AUTORIDADES Y PERSONAL\\n\\n# A. N...</td>\n",
       "      <td>C:\\Users\\Jorge\\Desktop\\MASTER_IA\\TFM\\proyectoC...</td>\n",
       "      <td>BOE-A-2024-7491.pdf</td>\n",
       "      <td>application/pdf</td>\n",
       "      <td>195926</td>\n",
       "      <td>2024-05-20</td>\n",
       "      <td>2024-05-10</td>\n",
       "      <td>2024-04-17</td>\n",
       "      <td>435c1f64-b33e-4433-b023-d7112d48b43f</td>\n",
       "      <td>db014d95-d3f5-591b-b020-04b4fc56c393</td>\n",
       "      <td>420.0</td>\n",
       "      <td>1472.0</td>\n",
       "      <td>Nombramientos y Ceses</td>\n",
       "      <td>0.85</td>\n",
       "      <td>Procedimientos y Citaciones Judiciales</td>\n",
       "      <td>0.75</td>\n",
       "      <td>Orden de Publicaciones y Sumarios</td>\n",
       "      <td>0.65</td>\n",
       "    </tr>\n",
       "    <tr>\n",
       "      <th>3</th>\n",
       "      <td>(Orden EFP/43/2021, de 21 de enero), el Subsec...</td>\n",
       "      <td>C:\\Users\\Jorge\\Desktop\\MASTER_IA\\TFM\\proyectoC...</td>\n",
       "      <td>BOE-A-2024-7491.pdf</td>\n",
       "      <td>application/pdf</td>\n",
       "      <td>195926</td>\n",
       "      <td>2024-05-20</td>\n",
       "      <td>2024-05-10</td>\n",
       "      <td>2024-04-17</td>\n",
       "      <td>435c1f64-b33e-4433-b023-d7112d48b43f</td>\n",
       "      <td>f3dc161b-737c-5bc1-ba49-d3d1fc854bc0</td>\n",
       "      <td>44.0</td>\n",
       "      <td>131.0</td>\n",
       "      <td>Orden de Publicaciones y Sumarios</td>\n",
       "      <td>0.75</td>\n",
       "      <td>Planes de Estudio y Normativas Educativas</td>\n",
       "      <td>0.65</td>\n",
       "      <td>Nombramientos y Ceses</td>\n",
       "      <td>0.55</td>\n",
       "    </tr>\n",
       "    <tr>\n",
       "      <th>4</th>\n",
       "      <td># \\n\\n\\n# II. AUTORIDADES Y PERSONAL\\n\\n# A. N...</td>\n",
       "      <td>C:\\Users\\Jorge\\Desktop\\MASTER_IA\\TFM\\proyectoC...</td>\n",
       "      <td>BOE-A-2024-7492.pdf</td>\n",
       "      <td>application/pdf</td>\n",
       "      <td>198655</td>\n",
       "      <td>2024-05-20</td>\n",
       "      <td>2024-05-10</td>\n",
       "      <td>2024-04-17</td>\n",
       "      <td>9146f923-38c5-4907-8a29-5489dd9cd867</td>\n",
       "      <td>5dd31166-c91d-5d58-83c0-011c988da0bb</td>\n",
       "      <td>359.0</td>\n",
       "      <td>1302.0</td>\n",
       "      <td>Nombramientos y Ceses</td>\n",
       "      <td>0.85</td>\n",
       "      <td>Convocatorias y Resultados de Oposiciones</td>\n",
       "      <td>0.75</td>\n",
       "      <td>Reglamentos y Normativas Generales</td>\n",
       "      <td>0.65</td>\n",
       "    </tr>\n",
       "  </tbody>\n",
       "</table>\n",
       "</div>"
      ],
      "text/plain": [
       "                                                text  \\\n",
       "0  # \\n\\n\\n# II. AUTORIDADES Y PERSONAL\\n\\n# A. N...   \n",
       "1  El Ministro de la Presidencia, Justicia y Rela...   \n",
       "2  # \\n\\n\\n# II. AUTORIDADES Y PERSONAL\\n\\n# A. N...   \n",
       "3  (Orden EFP/43/2021, de 21 de enero), el Subsec...   \n",
       "4  # \\n\\n\\n# II. AUTORIDADES Y PERSONAL\\n\\n# A. N...   \n",
       "\n",
       "                                           file_path            file_name  \\\n",
       "0  C:\\Users\\Jorge\\Desktop\\MASTER_IA\\TFM\\proyectoC...  BOE-A-2024-7299.pdf   \n",
       "1  C:\\Users\\Jorge\\Desktop\\MASTER_IA\\TFM\\proyectoC...  BOE-A-2024-7299.pdf   \n",
       "2  C:\\Users\\Jorge\\Desktop\\MASTER_IA\\TFM\\proyectoC...  BOE-A-2024-7491.pdf   \n",
       "3  C:\\Users\\Jorge\\Desktop\\MASTER_IA\\TFM\\proyectoC...  BOE-A-2024-7491.pdf   \n",
       "4  C:\\Users\\Jorge\\Desktop\\MASTER_IA\\TFM\\proyectoC...  BOE-A-2024-7492.pdf   \n",
       "\n",
       "         file_type  file_size creation_date last_modified_date  \\\n",
       "0  application/pdf     191000    2024-05-19         2024-04-28   \n",
       "1  application/pdf     191000    2024-05-19         2024-04-28   \n",
       "2  application/pdf     195926    2024-05-20         2024-05-10   \n",
       "3  application/pdf     195926    2024-05-20         2024-05-10   \n",
       "4  application/pdf     198655    2024-05-20         2024-05-10   \n",
       "\n",
       "  fecha_publicacion_boe                                pdf_id  \\\n",
       "0            2024-04-17  8b3fc320-e9c4-4329-b74f-551a60921a67   \n",
       "1            2024-04-17  8b3fc320-e9c4-4329-b74f-551a60921a67   \n",
       "2            2024-04-17  435c1f64-b33e-4433-b023-d7112d48b43f   \n",
       "3            2024-04-17  435c1f64-b33e-4433-b023-d7112d48b43f   \n",
       "4            2024-04-17  9146f923-38c5-4907-8a29-5489dd9cd867   \n",
       "\n",
       "                               chunk_id  num_tokens  num_caracteres  \\\n",
       "0  e28f0bcf-ed21-5628-8549-fbb6fab2901c       271.0           847.0   \n",
       "1  8b04f722-c466-592d-aa88-afd0bcc5df2e        31.0            89.0   \n",
       "2  db014d95-d3f5-591b-b020-04b4fc56c393       420.0          1472.0   \n",
       "3  f3dc161b-737c-5bc1-ba49-d3d1fc854bc0        44.0           131.0   \n",
       "4  5dd31166-c91d-5d58-83c0-011c988da0bb       359.0          1302.0   \n",
       "\n",
       "                       label_1_label  label_1_score  \\\n",
       "0              Nombramientos y Ceses           0.85   \n",
       "1              Nombramientos y Ceses           0.85   \n",
       "2              Nombramientos y Ceses           0.85   \n",
       "3  Orden de Publicaciones y Sumarios           0.75   \n",
       "4              Nombramientos y Ceses           0.85   \n",
       "\n",
       "                               label_2_label  label_2_score  \\\n",
       "0                            Leyes Orgánicas           0.75   \n",
       "1            Publicaciones por Órgano Emisor           0.75   \n",
       "2     Procedimientos y Citaciones Judiciales           0.75   \n",
       "3  Planes de Estudio y Normativas Educativas           0.65   \n",
       "4  Convocatorias y Resultados de Oposiciones           0.75   \n",
       "\n",
       "                             label_3_label  label_3_score  \n",
       "0       Reglamentos y Normativas Generales           0.70  \n",
       "1  Documentos y Comunicaciones Específicas           0.65  \n",
       "2        Orden de Publicaciones y Sumarios           0.65  \n",
       "3                    Nombramientos y Ceses           0.55  \n",
       "4       Reglamentos y Normativas Generales           0.65  "
      ]
     },
     "execution_count": 2,
     "metadata": {},
     "output_type": "execute_result"
    }
   ],
   "source": [
    "import pandas as pd \n",
    "data = pd.read_parquet(\"C:\\\\Users\\\\Jorge\\\\Desktop\\\\MASTER_IA\\\\TFM\\\\proyectoCHROMADB\\\\data\\\\boedataset\\\\20240522171156_train.parquet\")\n",
    "data.head(5)"
   ]
  },
  {
   "cell_type": "code",
   "execution_count": 2,
   "metadata": {},
   "outputs": [
    {
     "data": {
      "text/plain": [
       "text                     0\n",
       "file_path                0\n",
       "file_name                0\n",
       "file_type                0\n",
       "file_size                0\n",
       "creation_date            0\n",
       "last_modified_date       0\n",
       "fecha_publicacion_boe    0\n",
       "pdf_id                   0\n",
       "chunk_id                 0\n",
       "num_tokens               4\n",
       "num_caracteres           4\n",
       "label_1_label            4\n",
       "label_1_score            4\n",
       "label_2_label            4\n",
       "label_2_score            4\n",
       "label_3_label            4\n",
       "label_3_score            4\n",
       "dtype: int64"
      ]
     },
     "execution_count": 2,
     "metadata": {},
     "output_type": "execute_result"
    }
   ],
   "source": [
    "data.isna().sum()"
   ]
  },
  {
   "cell_type": "code",
   "execution_count": 3,
   "metadata": {},
   "outputs": [
    {
     "data": {
      "text/plain": [
       "array([4, 4, 4, 4])"
      ]
     },
     "execution_count": 3,
     "metadata": {},
     "output_type": "execute_result"
    }
   ],
   "source": [
    "import numpy as np\n",
    "np.full(4, 4)"
   ]
  },
  {
   "cell_type": "code",
   "execution_count": 1,
   "metadata": {},
   "outputs": [
    {
     "data": {
      "text/plain": [
       "'c:\\\\Users\\\\Jorge\\\\Desktop\\\\MASTER_IA\\\\TFM\\\\proyecto\\\\config\\\\loggers\\\\etl.json'"
      ]
     },
     "execution_count": 1,
     "metadata": {},
     "output_type": "execute_result"
    }
   ],
   "source": [
    "import os \n",
    "os.path.join(os.path.abspath(\"../../../config/loggers\"), \"etl.json\")\n"
   ]
  },
  {
   "cell_type": "code",
   "execution_count": 16,
   "metadata": {},
   "outputs": [
    {
     "data": {
      "text/plain": [
       "'20240415'"
      ]
     },
     "execution_count": 16,
     "metadata": {},
     "output_type": "execute_result"
    }
   ],
   "source": [
    "fecha_ini.strftime('%Y%m%d')"
   ]
  },
  {
   "cell_type": "code",
   "execution_count": 6,
   "metadata": {},
   "outputs": [
    {
     "ename": "TypeError",
     "evalue": "Document.__init__() missing 1 required positional argument: 'page_content'",
     "output_type": "error",
     "traceback": [
      "\u001b[1;31m---------------------------------------------------------------------------\u001b[0m",
      "\u001b[1;31mTypeError\u001b[0m                                 Traceback (most recent call last)",
      "Cell \u001b[1;32mIn[6], line 2\u001b[0m\n\u001b[0;32m      1\u001b[0m \u001b[38;5;28;01mfrom\u001b[39;00m \u001b[38;5;21;01mlangchain\u001b[39;00m\u001b[38;5;21;01m.\u001b[39;00m\u001b[38;5;21;01mschema\u001b[39;00m \u001b[38;5;28;01mimport\u001b[39;00m Document\n\u001b[1;32m----> 2\u001b[0m new_docs \u001b[38;5;241m=\u001b[39m [\u001b[43mDocument\u001b[49m\u001b[43m(\u001b[49m\u001b[43m)\u001b[49m]\n",
      "\u001b[1;31mTypeError\u001b[0m: Document.__init__() missing 1 required positional argument: 'page_content'"
     ]
    }
   ],
   "source": [
    "from langchain.schema import Document\n",
    "new_docs = [Document(page_content=\"d\")]"
   ]
  },
  {
   "cell_type": "code",
   "execution_count": 5,
   "metadata": {},
   "outputs": [
    {
     "data": {
      "text/plain": [
       "True"
      ]
     },
     "execution_count": 5,
     "metadata": {},
     "output_type": "execute_result"
    }
   ],
   "source": [
    "flag = True if (isinstance(new_docs,list) or isinstance(new_docs,Document)) and len(new_docs) > 0 else False\n",
    "flag"
   ]
  },
  {
   "cell_type": "code",
   "execution_count": null,
   "metadata": {},
   "outputs": [],
   "source": []
  }
 ],
 "metadata": {
  "kernelspec": {
   "display_name": "env",
   "language": "python",
   "name": "python3"
  },
  "language_info": {
   "codemirror_mode": {
    "name": "ipython",
    "version": 3
   },
   "file_extension": ".py",
   "mimetype": "text/x-python",
   "name": "python",
   "nbconvert_exporter": "python",
   "pygments_lexer": "ipython3",
   "version": "3.11.6"
  }
 },
 "nbformat": 4,
 "nbformat_minor": 2
}
