{
 "cells": [
  {
   "cell_type": "code",
   "execution_count": 1,
   "metadata": {},
   "outputs": [],
   "source": [
    "import requests\n",
    "import os\n",
    "from dotenv import load_dotenv\n",
    "import qdrant_client\n",
    "from langchain.vectorstores import Qdrant\n",
    "\n",
    "load_dotenv()\n",
    "# Load environment variables from .env file\n",
    "\n",
    "# Set environment variables\n",
    "os.environ['QDRANT_API_KEY'] = os.getenv('QDRANT_API_KEY')\n",
    "os.environ['QDRANT_HOST'] = os.getenv('QDRANT_HOST')\n",
    "os.environ['QDRANT_COLLECTION_NAME'] = os.getenv('QDRANT_COLLECTION_NAME')\n",
    "os.environ['QDRANT_COLLECTIONS'] = os.getenv('QDRANT_COLLECTIONS')\n"
   ]
  },
  {
   "cell_type": "code",
   "execution_count": 2,
   "metadata": {},
   "outputs": [
    {
     "name": "stdout",
     "output_type": "stream",
     "text": [
      "200\n",
      "{\"title\":\"qdrant - vector search engine\",\"version\":\"1.9.5\",\"commit\":\"ba82f60105690ee536faad74dc6327d146a5c0f0\"}\n"
     ]
    }
   ],
   "source": [
    "url = os.getenv('QDRANT_HOST')\n",
    "headers = {\n",
    "    \"Api-key\": os.getenv('QDRANT_API_KEY')\n",
    "}\n",
    "\n",
    "response = requests.get(url, headers=headers)\n",
    "\n",
    "print(response.status_code)\n",
    "print(response.text)\n"
   ]
  },
  {
   "cell_type": "code",
   "execution_count": 5,
   "metadata": {},
   "outputs": [
    {
     "name": "stdout",
     "output_type": "stream",
     "text": [
      "200\n",
      "{\"result\":{\"collections\":[{\"name\":\"BOE\"},{\"name\":\"boe\"}]},\"status\":\"ok\",\"time\":8.779e-6}\n"
     ]
    }
   ],
   "source": [
    "url = os.getenv(\"QDRANT_COLLECTIONS\")\n",
    "headers = {\n",
    "    \"Api-key\": os.getenv('QDRANT_API_KEY')\n",
    "}\n",
    "\n",
    "response = requests.get(url, headers=headers)\n",
    "\n",
    "print(response.status_code)\n",
    "print(response.text)"
   ]
  },
  {
   "cell_type": "code",
   "execution_count": 4,
   "metadata": {},
   "outputs": [
    {
     "data": {
      "text/plain": [
       "True"
      ]
     },
     "execution_count": 4,
     "metadata": {},
     "output_type": "execute_result"
    }
   ],
   "source": [
    "client = qdrant_client.QdrantClient(\n",
    "    url=os.getenv(\"QDRANT_HOST\"),\n",
    "    api_key=os.getenv(\"QDRANT_API_KEY\")\n",
    ")\n",
    "\n",
    "vectors_config = qdrant_client.http.models.VectorParams(\n",
    "    size=384,\n",
    "    distance=qdrant_client.http.models.Distance.COSINE\n",
    ")\n",
    "\n"
   ]
  },
  {
   "cell_type": "markdown",
   "metadata": {},
   "source": [
    "Delete collection"
   ]
  },
  {
   "cell_type": "code",
   "execution_count": 6,
   "metadata": {},
   "outputs": [
    {
     "data": {
      "text/plain": [
       "True"
      ]
     },
     "execution_count": 6,
     "metadata": {},
     "output_type": "execute_result"
    }
   ],
   "source": [
    "client.delete_collection(collection_name=\"BOE\")"
   ]
  },
  {
   "cell_type": "code",
   "execution_count": 7,
   "metadata": {},
   "outputs": [
    {
     "name": "stdout",
     "output_type": "stream",
     "text": [
      "200\n",
      "{\"result\":{\"collections\":[{\"name\":\"boe\"}]},\"status\":\"ok\",\"time\":8.974e-6}\n"
     ]
    }
   ],
   "source": [
    "url = os.getenv(\"QDRANT_COLLECTIONS\")\n",
    "headers = {\n",
    "    \"Api-key\": os.getenv('QDRANT_API_KEY')\n",
    "}\n",
    "\n",
    "response = requests.get(url, headers=headers)\n",
    "\n",
    "print(response.status_code)\n",
    "print(response.text)"
   ]
  },
  {
   "cell_type": "markdown",
   "metadata": {},
   "source": [
    "Check existance\n"
   ]
  },
  {
   "cell_type": "code",
   "execution_count": 8,
   "metadata": {},
   "outputs": [
    {
     "data": {
      "text/plain": [
       "True"
      ]
     },
     "execution_count": 8,
     "metadata": {},
     "output_type": "execute_result"
    }
   ],
   "source": [
    "client.collection_exists(collection_name=os.getenv('QDRANT_COLLECTION_NAME'))"
   ]
  },
  {
   "cell_type": "code",
   "execution_count": 9,
   "metadata": {},
   "outputs": [
    {
     "name": "stdout",
     "output_type": "stream",
     "text": [
      "200\n",
      "{\"result\":{\"collections\":[{\"name\":\"boe\"}]},\"status\":\"ok\",\"time\":6.851e-6}\n"
     ]
    }
   ],
   "source": [
    "url = os.getenv(\"QDRANT_COLLECTIONS\")\n",
    "headers = {\n",
    "    \"Api-key\": os.getenv('QDRANT_API_KEY')\n",
    "}\n",
    "\n",
    "response = requests.get(url, headers=headers)\n",
    "\n",
    "print(response.status_code)\n",
    "print(response.text)"
   ]
  },
  {
   "cell_type": "markdown",
   "metadata": {},
   "source": [
    "initialize qdrant langchain client and add docs"
   ]
  },
  {
   "cell_type": "code",
   "execution_count": 16,
   "metadata": {},
   "outputs": [
    {
     "name": "stderr",
     "output_type": "stream",
     "text": [
      "c:\\Users\\Jorge\\Desktop\\MASTER_IA\\TFM\\proyecto\\env\\Lib\\site-packages\\tqdm\\auto.py:21: TqdmWarning: IProgress not found. Please update jupyter and ipywidgets. See https://ipywidgets.readthedocs.io/en/stable/user_install.html\n",
      "  from .autonotebook import tqdm as notebook_tqdm\n",
      "c:\\Users\\Jorge\\Desktop\\MASTER_IA\\TFM\\proyecto\\env\\Lib\\site-packages\\huggingface_hub\\file_download.py:1132: FutureWarning: `resume_download` is deprecated and will be removed in version 1.0.0. Downloads always resume when possible. If you want to force a new download, use `force_download=True`.\n",
      "  warnings.warn(\n",
      "c:\\Users\\Jorge\\Desktop\\MASTER_IA\\TFM\\proyecto\\env\\Lib\\site-packages\\huggingface_hub\\file_download.py:1132: FutureWarning: `resume_download` is deprecated and will be removed in version 1.0.0. Downloads always resume when possible. If you want to force a new download, use `force_download=True`.\n",
      "  warnings.warn(\n"
     ]
    }
   ],
   "source": [
    "from langchain.vectorstores import Qdrant\n",
    "from langchain_huggingface import HuggingFaceEmbeddings\n",
    "\n",
    "\n",
    "def get_hg_emb(model : str = \"sentence-transformers/paraphrase-multilingual-MiniLM-L12-v2\"):\n",
    "    \"\"\"_summary_\n",
    "\n",
    "    Args:\n",
    "        model (str): _description_\n",
    "    \"\"\"\n",
    "    sbert = HuggingFaceEmbeddings(\n",
    "                    model_name=\"sentence-transformers/paraphrase-multilingual-MiniLM-L12-v2\"\n",
    "                                )\n",
    "    return sbert\n",
    "\n",
    "# Integration with langchain -> vector store and retriever \n",
    "vector_store = Qdrant(\n",
    "client=client,\n",
    "collection_name=os.getenv('QDRANT_COLLECTION_NAME'),\n",
    "embeddings=get_hg_emb(),\n",
    "distance_strategy=\"COSINE\"\n",
    ")"
   ]
  },
  {
   "cell_type": "code",
   "execution_count": 27,
   "metadata": {},
   "outputs": [],
   "source": [
    "from langchain.schema import Document\n",
    "with open(\"C:\\\\Users\\\\Jorge\\\\Desktop\\\\MASTER_IA\\\\TFM\\\\proyecto\\\\data\\\\notes\\historia.txt\", 'r', encoding='utf-8') as f:\n",
    "    for l in f:\n",
    "        vector_store.add_documents(\n",
    "        documents=[Document(page_content=str(l), metadata={\"historia\":\"conejo\"})]\n",
    "    )\n"
   ]
  },
  {
   "cell_type": "code",
   "execution_count": null,
   "metadata": {},
   "outputs": [],
   "source": []
  },
  {
   "cell_type": "code",
   "execution_count": null,
   "metadata": {},
   "outputs": [],
   "source": []
  },
  {
   "cell_type": "code",
   "execution_count": null,
   "metadata": {},
   "outputs": [],
   "source": []
  }
 ],
 "metadata": {
  "kernelspec": {
   "display_name": "env",
   "language": "python",
   "name": "python3"
  },
  "language_info": {
   "codemirror_mode": {
    "name": "ipython",
    "version": 3
   },
   "file_extension": ".py",
   "mimetype": "text/x-python",
   "name": "python",
   "nbconvert_exporter": "python",
   "pygments_lexer": "ipython3",
   "version": "3.11.6"
  }
 },
 "nbformat": 4,
 "nbformat_minor": 2
}
